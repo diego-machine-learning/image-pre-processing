{
 "nbformat": 4,
 "nbformat_minor": 2,
 "metadata": {
  "language_info": {
   "name": "python",
   "codemirror_mode": {
    "name": "ipython",
    "version": 3
   },
   "version": "3.6.9-final"
  },
  "orig_nbformat": 2,
  "file_extension": ".py",
  "mimetype": "text/x-python",
  "name": "python",
  "npconvert_exporter": "python",
  "pygments_lexer": "ipython3",
  "version": 3,
  "kernelspec": {
   "name": "python36964bit5552c92a774148df812118a3b85c4140",
   "display_name": "Python 3.6.9 64-bit"
  }
 },
 "cells": [
  {
   "source": [
    "# unpacking operators - *args and **kwargs\n",
    "\n",
    "tuple_collection = (1,2,3,4)\n",
    "list_collection = [1,2,3,4]\n",
    "dict_as_sample = {'a':1,'b':2,'c':3,'d':4}\n",
    "\n",
    "def try_args(*args):\n",
    "\n",
    "    res = 0\n",
    "    for i in args:\n",
    "        res += i\n",
    "\n",
    "    print(res)\n",
    "\n",
    "def try_args_for_dict(*args):\n",
    "\n",
    "    for i in args:\n",
    "        print(i)\n",
    "\n",
    "try_args(*tuple_collection)\n",
    "try_args(*list_collection)\n",
    "\n",
    "try_args(1,2,3,4)\n",
    "try_args_for_dict(dict_as_sample,{'e':2,'f':3,'g':4})\n",
    "\n",
    "#merging dicts\n",
    "my_first_dict = {\"A\": 1, \"B\": 2}\n",
    "my_second_dict = {\"C\": 3, \"D\": 4}\n",
    "my_merged_dict = {**my_first_dict, **my_second_dict}\n",
    "\n",
    "print(my_merged_dict)"
   ],
   "cell_type": "code",
   "outputs": [
    {
     "output_type": "stream",
     "name": "stdout",
     "text": "10\n10\n10\n{'a': 1, 'b': 2, 'c': 3, 'd': 4}\n{'e': 2, 'f': 3, 'g': 4}\n{'A': 1, 'B': 2, 'C': 3, 'D': 4}\n"
    }
   ],
   "metadata": {},
   "execution_count": 1
  },
  {
   "cell_type": "code",
   "execution_count": 35,
   "metadata": {},
   "outputs": [
    {
     "name": "stdout",
     "output_type": "stream",
     "text": "{'a': 1, 'b': 2, 'c': 3, 'd': 4}\na\nb\nc\nd\n1\n2\n3\n4\n{'a': 1, 'b': 2, 'c': 3, 'd': 4}\na\nb\nc\nd\n1\n2\n3\n4\n"
    }
   ],
   "source": [
    "def try_kwargs(**kwargs):\n",
    "\n",
    "    print(kwargs)\n",
    "    for i in kwargs:\n",
    "        print(i)\n",
    "    \n",
    "    for x in kwargs.values():\n",
    "        print(x)\n",
    "\n",
    "try_kwargs(**dict_as_sample)\n",
    "try_kwargs(a=1,b=2,c=3,d=4)"
   ]
  }
 ]
}