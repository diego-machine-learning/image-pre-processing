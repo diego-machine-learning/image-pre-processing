{
 "nbformat": 4,
 "nbformat_minor": 2,
 "metadata": {
  "language_info": {
   "name": "python",
   "codemirror_mode": {
    "name": "ipython",
    "version": 3
   },
   "version": "3.6.8"
  },
  "orig_nbformat": 2,
  "file_extension": ".py",
  "mimetype": "text/x-python",
  "name": "python",
  "npconvert_exporter": "python",
  "pygments_lexer": "ipython3",
  "version": 3
 },
 "cells": [
  {
   "cell_type": "code",
   "execution_count": 4,
   "metadata": {},
   "outputs": [],
   "source": [
    "import cv2\n",
    "import os\n",
    "import numpy as np\n",
    "from dotenv import load_dotenv\n",
    "\n",
    "load_dotenv()\n",
    "\n",
    "abs_file_path = os.getenv('TEMPLATE_IMAGE')\n",
    "img = cv2.imread(abs_file_path)\n",
    "\n",
    "# base kernel\n",
    "kernel = np.ones((1, 1), np.uint8)"
   ]
  },
  {
   "source": [
    "# TODO: evaluate pre blur filter ( HSV | morphology ) \n",
    "# https://docs.opencv.org/trunk/d9/d61/tutorial_py_morphological_ops.html\n",
    "\n",
    "# HSV conversion\n",
    "# https://www.learnopencv.com/tag/hsv/\n",
    "# https://www.lifewire.com/what-is-hsv-in-design-1078068\n",
    "\n",
    "brg2hsv = cv2.cvtColor(img, cv2.COLOR_BGR2HSV)\n",
    "\n",
    "# remove noise by cv2.MORPH_OPEN -> erosion followed by dilation\n",
    "hsv_opening = cv2.morphologyEx(brg2hsv, cv2.MORPH_OPEN, kernel)\n",
    "\n",
    "# remove overwrite\n",
    "img_hsv = cv2.erode(hsv_opening,kernel,iterations = 1)\n",
    "img_hsv = cv2.dilate(hsv_opening,kernel,iterations = 2)\n",
    "\n",
    "# reduce noise by cv2.GaussianBlur\n",
    "blurry_hsv = cv2.GaussianBlur(hsv_opening, ksize = (3, 3), sigmaX = 0)\n",
    "\n",
    "_, img_hsv = cv2.threshold(blurry_hsv, 155, 255, cv2.THRESH_TOZERO)\n",
    "\n",
    "img_hsv = cv2.GaussianBlur(img_hsv, ksize = (3, 3), sigmaX = 0)\n",
    "\n",
    "results = {'brg2hsv':brg2hsv, 'hsv_opening':hsv_opening, 'blurry_hsv':blurry_hsv, 'img_hsv':img_hsv}"
   ],
   "cell_type": "code",
   "outputs": [],
   "metadata": {},
   "execution_count": 8
  },
  {
   "source": [
    "for key, value in results.items():\n",
    "\n",
    "    window = cv2.namedWindow(key, cv2.WINDOW_NORMAL)\n",
    "    cv2.resizeWindow(key, 1200, 900)\n",
    "    cv2.imshow(key, value)\n",
    "\n",
    "cv2.waitKey()\n",
    "cv2.destroyAllWindows()"
   ],
   "cell_type": "code",
   "outputs": [],
   "metadata": {},
   "execution_count": 9
  },
  {
   "cell_type": "code",
   "execution_count": null,
   "metadata": {},
   "outputs": [],
   "source": []
  }
 ]
}