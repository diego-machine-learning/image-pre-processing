{
 "nbformat": 4,
 "nbformat_minor": 2,
 "metadata": {
  "language_info": {
   "name": "python",
   "codemirror_mode": {
    "name": "ipython",
    "version": 3
   },
   "version": "3.6.9-final"
  },
  "orig_nbformat": 2,
  "file_extension": ".py",
  "mimetype": "text/x-python",
  "name": "python",
  "npconvert_exporter": "python",
  "pygments_lexer": "ipython3",
  "version": 3,
  "kernelspec": {
   "name": "python36964bit5330c3c7aac74a1bac5e8b0bb1bd3280",
   "display_name": "Python 3.6.9 64-bit"
  }
 },
 "cells": [
  {
   "source": [
    "# https://docs.opencv.org/3.4/d3/dc1/tutorial_basic_linear_transform.html\n",
    "\n",
    "from __future__ import print_function\n",
    "from builtins import input\n",
    "import cv2\n",
    "import os\n",
    "import numpy as np\n",
    "from dotenv import load_dotenv\n",
    "\n",
    "load_dotenv()\n",
    "\n",
    "#load the image\n",
    "abs_file_path = os.getenv('BASE_IMAGE')\n",
    "image = cv2.imread(abs_file_path)\n",
    "\n",
    "new_image = np.zeros(image.shape, image.dtype)\n",
    "# alpha = 1.0 # Simple contrast control\n",
    "# beta = 0    # Simple brightness control\n",
    "# Initialize values\n",
    "print(' Basic Linear Transforms ')\n",
    "print('-------------------------')\n",
    "\n",
    "alpha = 1\n",
    "beta = 0\n",
    "\n",
    "for y in range(image.shape[0]):\n",
    "    for x in range(image.shape[1]):\n",
    "        for c in range(image.shape[2]):\n",
    "            new_image[y,x,c] = np.clip(alpha*image[y,x,c] + beta, 0, 255)\n",
    "\n",
    "\n",
    "window = cv2.namedWindow('brightness demo', cv2.WINDOW_NORMAL)\n",
    "cv2.resizeWindow('brightness demo', 1200, 900)\n",
    "cv2.imshow('brightness demo', new_image)\n",
    "\n",
    "cv2.waitKey()\n",
    "cv2.destroyAllWindows()"
   ],
   "cell_type": "code",
   "outputs": [
    {
     "output_type": "stream",
     "name": "stdout",
     "text": "Basic Linear Transforms \n-------------------------\n"
    }
   ],
   "metadata": {},
   "execution_count": 2
  },
  {
   "cell_type": "code",
   "execution_count": null,
   "metadata": {},
   "outputs": [],
   "source": []
  }
 ]
}