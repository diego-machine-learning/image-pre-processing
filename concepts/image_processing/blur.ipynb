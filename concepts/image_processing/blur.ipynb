{
 "nbformat": 4,
 "nbformat_minor": 2,
 "metadata": {
  "language_info": {
   "name": "python",
   "codemirror_mode": {
    "name": "ipython",
    "version": 3
   },
   "version": "3.6.8"
  },
  "orig_nbformat": 2,
  "file_extension": ".py",
  "mimetype": "text/x-python",
  "name": "python",
  "npconvert_exporter": "python",
  "pygments_lexer": "ipython3",
  "version": 3
 },
 "cells": [
  {
   "source": [
    "import cv2\n",
    "import numpy as np\n",
    "from dotenv import load_dotenv\n",
    "\n",
    "load_dotenv()\n",
    "\n",
    "#load the image\n",
    "abs_file_path = os.getenv('TEMPLATE_IMAGE')\n",
    "img = cv2.imread(abs_file_path)"
   ],
   "cell_type": "code",
   "outputs": [
    {
     "output_type": "error",
     "evalue": "Error: Cannot execute code, session has been disposed."
    }
   ],
   "metadata": {},
   "execution_count": null
  },
  {
   "cell_type": "code",
   "execution_count": 7,
   "metadata": {},
   "outputs": [],
   "source": [
    "blurry_image = cv2.bilateralFilter(img, 7, sigmaSpace = 75, sigmaColor =75)\n",
    "gaussian_image = cv2.blur(img, ksize = (7, 7))\n",
    "median_blur = cv2.GaussianBlur(img, ksize = (7, 7), sigmaX = 0)   \n",
    "bilateral_image = cv2.medianBlur(img, 7)"
   ]
  },
  {
   "cell_type": "code",
   "execution_count": 8,
   "metadata": {},
   "outputs": [],
   "source": [
    "blur_types = {'blur':blurry_image, 'gaussian':gaussian_image, 'median':median_blur, 'bilateral':bilateral_image}"
   ]
  },
  {
   "cell_type": "code",
   "execution_count": 9,
   "metadata": {},
   "outputs": [],
   "source": [
    "\n",
    "for key, value in blur_types.items():\n",
    "\n",
    "    window = cv2.namedWindow(key, cv2.WINDOW_NORMAL)\n",
    "    cv2.resizeWindow(key, 1200, 900)\n",
    "    cv2.imshow(key, value)\n",
    "\n",
    "cv2.waitKey()\n",
    "cv2.destroyAllWindows()"
   ]
  },
  {
   "cell_type": "code",
   "execution_count": null,
   "metadata": {},
   "outputs": [],
   "source": []
  }
 ]
}