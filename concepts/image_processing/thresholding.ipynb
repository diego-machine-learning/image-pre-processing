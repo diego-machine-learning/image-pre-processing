{
 "nbformat": 4,
 "nbformat_minor": 2,
 "metadata": {
  "language_info": {
   "name": "python",
   "codemirror_mode": {
    "name": "ipython",
    "version": 3
   },
   "version": "3.6.8"
  },
  "orig_nbformat": 2,
  "file_extension": ".py",
  "mimetype": "text/x-python",
  "name": "python",
  "npconvert_exporter": "python",
  "pygments_lexer": "ipython3",
  "version": 3
 },
 "cells": [
  {
   "cell_type": "code",
   "execution_count": 5,
   "metadata": {},
   "outputs": [],
   "source": [
    "import cv2\n",
    "import numpy as np\n",
    "from dotenv import load_dotenv\n",
    "\n",
    "load_dotenv()\n",
    "\n",
    "#load the image\n",
    "abs_file_path = os.getenv('TEMPLATE_IMAGE')\n",
    "img = cv2.imread(abs_file_path)"
   ]
  },
  {
   "cell_type": "code",
   "execution_count": 8,
   "metadata": {},
   "outputs": [],
   "source": [
    "# Thresholding \n",
    "_, THRESH_BINARY = cv2.threshold(img, 127, 255, cv2.THRESH_BINARY)\n",
    "_, THRESHRESH_BINARY_BINARY_INV = cv2.threshold(img, 127, 255, cv2.THRESH_BINARY_INV)\n",
    "_, THRESH_TOZERO = cv2.threshold(img, 127, 255, cv2.THRESH_TOZERO)\n",
    "_, THRESH_TOZERO_INV = cv2.threshold(img, 127, 255, cv2.THRESH_TOZERO_INV)\n",
    "_, THRESH_TRUNC = cv2.threshold(img, 127, 255, cv2.THRESH_TRUNC)\n",
    "\n",
    "threshold_types = {'THRESH_BINARY':THRESH_BINARY, 'THRESH_BINARY_INV':THRESH_BINARY_INV, 'THRESH_TOZERO':THRESH_TOZERO, 'THRESH_TOZERO_INV':THRESH_TOZERO_INV, 'THRESH_TRUNC':THRESH_TRUNC}"
   ]
  },
  {
   "cell_type": "code",
   "execution_count": 10,
   "metadata": {},
   "outputs": [],
   "source": [
    "for key, value in threshold_types.items():\n",
    "\n",
    "    window = cv2.namedWindow(key, cv2.WINDOW_NORMAL)\n",
    "    cv2.resizeWindow(key, 1200, 900)\n",
    "    cv2.imshow(key, value)\n",
    "\n",
    "cv2.waitKey()\n",
    "cv2.destroyAllWindows()"
   ]
  },
  {
   "cell_type": "code",
   "execution_count": 13,
   "metadata": {},
   "outputs": [],
   "source": [
    "# adaptative threshold\n",
    "gray_img = cv2.cvtColor(img, cv2.COLOR_BGR2GRAY)\n",
    "\n",
    "adap_mean_2 = cv2.adaptiveThreshold(gray_img, 255, \n",
    "                                    cv2.ADAPTIVE_THRESH_MEAN_C, \n",
    "                                    cv2.THRESH_BINARY, 7, 2)\n",
    "adap_mean_2_inv = cv2.adaptiveThreshold(gray_img, 255, \n",
    "                                        cv2.ADAPTIVE_THRESH_MEAN_C, \n",
    "                                        cv2.THRESH_BINARY_INV, 7, 2)\n",
    "adap_mean_8 = cv2.adaptiveThreshold(gray_img, 255, \n",
    "                                    cv2.ADAPTIVE_THRESH_MEAN_C, \n",
    "                                    cv2.THRESH_BINARY, 7, 8)\n",
    "adap_gaussian_8 = cv2.adaptiveThreshold(gray_img, 255, \n",
    "                                    cv2.ADAPTIVE_THRESH_GAUSSIAN_C, \n",
    "                                    cv2.THRESH_BINARY, 7, 8)"
   ]
  },
  {
   "cell_type": "code",
   "execution_count": 14,
   "metadata": {},
   "outputs": [],
   "source": [
    "adaptative_threshold = {'adap_mean_2':adap_mean_2, 'adap_mean_2_inv':adap_mean_2_inv, 'adap_mean_8':adap_mean_8, 'adap_gaussian_8':adap_gaussian_8}"
   ]
  },
  {
   "cell_type": "code",
   "execution_count": 15,
   "metadata": {},
   "outputs": [],
   "source": [
    "for key, value in adaptative_threshold.items():\n",
    "\n",
    "    window = cv2.namedWindow(key, cv2.WINDOW_NORMAL)\n",
    "    cv2.resizeWindow(key, 1200, 900)\n",
    "    cv2.imshow(key, value)\n",
    "\n",
    "cv2.waitKey()\n",
    "cv2.destroyAllWindows()"
   ]
  }
 ]
}