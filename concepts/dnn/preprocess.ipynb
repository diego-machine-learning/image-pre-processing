{
 "nbformat": 4,
 "nbformat_minor": 2,
 "metadata": {
  "language_info": {
   "name": "python",
   "codemirror_mode": {
    "name": "ipython",
    "version": 3
   }
  },
  "orig_nbformat": 2,
  "file_extension": ".py",
  "mimetype": "text/x-python",
  "name": "python",
  "npconvert_exporter": "python",
  "pygments_lexer": "ipython3",
  "version": 3
 },
 "cells": [
  {
   "cell_type": "markdown",
   "metadata": {},
   "source": [
    "Pre processing functions based on cv2.dnn module\n",
    "\n",
    "blobFromImage(s):\n",
    "\n",
    "https://www.learnopencv.com/blob-detection-using-opencv-python-c/\n",
    "https://www.pyimagesearch.com/2017/11/06/deep-learning-opencvs-blobfromimage-works/\n",
    "https://docs.opencv.org/3.4/d6/d0f/group__dnn.html#ga29f34df9376379a603acd8df581ac8d7"
   ]
  },
  {
   "cell_type": "code",
   "execution_count": null,
   "metadata": {},
   "outputs": [],
   "source": [
    "import cv2 \n",
    "\n",
    "image = 'decoded buffer'\n",
    "\n",
    "size = (INPUT_WIDTH, INPUT_HEIGHT)\n",
    "\n",
    "# image -> input image (with 1-, 3- or 4-channels)\n",
    "# scale factor -> multiplier for image values\n",
    "# size -> spatial size for output image\n",
    "# mean -> scalar with mean values which are subtracted from channels\n",
    "# swapRB -> flag which indicates that swap first and last channels in 3-channel image is necessary\n",
    "blob = cv2.dnn.blobFromImage(image, 1/255, size, [0,0,0], 1, crop=False)"
   ]
  },
  {
   "cell_type": "markdown",
   "metadata": {},
   "source": [
    "* mean extraction -> 'average pixel intensity across all images in training set'\n",
    "* scaling factor -> ''"
   ]
  },
  {
   "cell_type": "code",
   "execution_count": null,
   "metadata": {},
   "outputs": [],
   "source": []
  }
 ]
}