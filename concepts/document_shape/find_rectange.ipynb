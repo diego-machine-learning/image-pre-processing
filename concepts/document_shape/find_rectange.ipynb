{
 "nbformat": 4,
 "nbformat_minor": 2,
 "metadata": {
  "language_info": {
   "name": "python",
   "codemirror_mode": {
    "name": "ipython",
    "version": 3
   },
   "version": "3.6.9-final"
  },
  "orig_nbformat": 2,
  "file_extension": ".py",
  "mimetype": "text/x-python",
  "name": "python",
  "npconvert_exporter": "python",
  "pygments_lexer": "ipython3",
  "version": 3,
  "kernelspec": {
   "name": "python36964bit5330c3c7aac74a1bac5e8b0bb1bd3280",
   "display_name": "Python 3.6.9 64-bit"
  }
 },
 "cells": [
  {
   "source": [
    "# implementation for rectangle detection\n",
    "# based on https://docs.opencv.org/master/d4/d73/tutorial_py_contours_begin.html\n",
    "\n",
    "import os\n",
    "import cv2\n",
    "from dotenv import load_dotenv\n",
    "\n",
    "load_dotenv()\n",
    "\n",
    "#load the image\n",
    "abs_file_path = os.getenv('BASE_IMAGE')\n",
    "img = cv2.imread(abs_file_path)"
   ],
   "cell_type": "code",
   "outputs": [],
   "metadata": {},
   "execution_count": 13
  },
  {
   "source": [
    "# start pipeline \n",
    "\n",
    "imgray = cv2.cvtColor(img, cv2.COLOR_BGR2GRAY)\n",
    "\n",
    "_, thresh = cv2.threshold(imgray, 127, 255, cv2.THRESH_BINARY)\n",
    "contours, hierarchy = cv2.findContours(thresh, cv2.RETR_TREE, cv2.CHAIN_APPROX_SIMPLE)\n",
    "\n",
    "cv2.drawContours(img, contours, -1, (255,0,0), 1)"
   ],
   "cell_type": "code",
   "outputs": [
    {
     "output_type": "execute_result",
     "data": {
      "text/plain": "array([[[112, 104,  74],\n        [118, 110,  80],\n        [126, 118,  88],\n        ...,\n        [ 72,  79,  72],\n        [ 72,  79,  72],\n        [ 72,  79,  72]],\n\n       [[108, 100,  70],\n        [109, 101,  71],\n        [108, 100,  70],\n        ...,\n        [ 71,  78,  71],\n        [ 72,  79,  72],\n        [ 72,  79,  72]],\n\n       [[ 74,  69,  38],\n        [ 71,  66,  35],\n        [ 66,  61,  30],\n        ...,\n        [ 71,  78,  71],\n        [ 71,  78,  71],\n        [ 72,  79,  72]],\n\n       ...,\n\n       [[ 77,  68,  64],\n        [ 77,  68,  64],\n        [ 78,  69,  65],\n        ...,\n        [ 79,  64,  72],\n        [ 77,  62,  70],\n        [ 78,  63,  71]],\n\n       [[ 76,  67,  63],\n        [ 77,  68,  64],\n        [ 78,  69,  65],\n        ...,\n        [ 78,  63,  71],\n        [ 77,  62,  70],\n        [ 79,  64,  72]],\n\n       [[ 76,  67,  63],\n        [ 77,  68,  64],\n        [ 78,  69,  65],\n        ...,\n        [ 78,  63,  71],\n        [ 78,  63,  71],\n        [ 80,  65,  73]]], dtype=uint8)"
     },
     "metadata": {},
     "execution_count": 16
    }
   ],
   "metadata": {},
   "execution_count": 16
  },
  {
   "source": [
    "window = cv2.namedWindow('countours', cv2.WINDOW_NORMAL)\n",
    "cv2.resizeWindow('countours', 1200, 900)\n",
    "cv2.imshow('countours', img)\n",
    "\n",
    "cv2.waitKey()\n",
    "cv2.destroyAllWindows()"
   ],
   "cell_type": "code",
   "outputs": [],
   "metadata": {},
   "execution_count": 17
  },
  {
   "cell_type": "code",
   "execution_count": null,
   "metadata": {},
   "outputs": [],
   "source": []
  }
 ]
}