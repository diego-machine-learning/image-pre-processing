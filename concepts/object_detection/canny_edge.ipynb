{
 "nbformat": 4,
 "nbformat_minor": 2,
 "metadata": {
  "language_info": {
   "name": "python",
   "codemirror_mode": {
    "name": "ipython",
    "version": 3
   },
   "version": "3.6.9-final"
  },
  "orig_nbformat": 2,
  "file_extension": ".py",
  "mimetype": "text/x-python",
  "name": "python",
  "npconvert_exporter": "python",
  "pygments_lexer": "ipython3",
  "version": 3,
  "kernelspec": {
   "name": "python36964bit5552c92a774148df812118a3b85c4140",
   "display_name": "Python 3.6.9 64-bit"
  }
 },
 "cells": [
  {
   "cell_type": "code",
   "execution_count": 1,
   "metadata": {},
   "outputs": [
    {
     "ename": "error",
     "evalue": "OpenCV(4.1.2) /io/opencv/modules/imgproc/src/resize.cpp:3720: error: (-215:Assertion failed) !ssize.empty() in function 'resize'\n",
     "output_type": "error",
     "traceback": [
      "\u001b[0;31m---------------------------------------------------------------------------\u001b[0m",
      "\u001b[0;31merror\u001b[0m                                     Traceback (most recent call last)",
      "\u001b[0;32m<ipython-input-1-d0b17241618a>\u001b[0m in \u001b[0;36m<module>\u001b[0;34m\u001b[0m\n\u001b[1;32m      9\u001b[0m \u001b[0;34m\u001b[0m\u001b[0m\n\u001b[1;32m     10\u001b[0m \u001b[0;31m# downscale the image, not the entire information is necessary\u001b[0m\u001b[0;34m\u001b[0m\u001b[0;34m\u001b[0m\u001b[0;34m\u001b[0m\u001b[0m\n\u001b[0;32m---> 11\u001b[0;31m \u001b[0mimg\u001b[0m \u001b[0;34m=\u001b[0m \u001b[0mcv2\u001b[0m\u001b[0;34m.\u001b[0m\u001b[0mresize\u001b[0m\u001b[0;34m(\u001b[0m\u001b[0mimg\u001b[0m\u001b[0;34m,\u001b[0m \u001b[0;32mNone\u001b[0m\u001b[0;34m,\u001b[0m \u001b[0mfx\u001b[0m\u001b[0;34m=\u001b[0m\u001b[0;36m0.3\u001b[0m\u001b[0;34m,\u001b[0m \u001b[0mfy\u001b[0m\u001b[0;34m=\u001b[0m\u001b[0;36m0.15\u001b[0m\u001b[0;34m)\u001b[0m\u001b[0;34m\u001b[0m\u001b[0;34m\u001b[0m\u001b[0m\n\u001b[0m\u001b[1;32m     12\u001b[0m \u001b[0;34m\u001b[0m\u001b[0m\n\u001b[1;32m     13\u001b[0m \u001b[0;31m# Convert the img to grayscale\u001b[0m\u001b[0;34m\u001b[0m\u001b[0;34m\u001b[0m\u001b[0;34m\u001b[0m\u001b[0m\n",
      "\u001b[0;31merror\u001b[0m: OpenCV(4.1.2) /io/opencv/modules/imgproc/src/resize.cpp:3720: error: (-215:Assertion failed) !ssize.empty() in function 'resize'\n"
     ]
    }
   ],
   "source": [
    "import os\n",
    "import cv2\n",
    "import numpy as np\n",
    "\n",
    "#img = cv2.imread('C:\\Users\\wieser\\Pictures\\IMG_20170912_111444516.jpg')\n",
    "\n",
    "abs_file_path = os.getenv('BASE_IMAGE')\n",
    "img = cv2.imread(abs_file_path)\n",
    "\n",
    "# downscale the image, not the entire information is necessary\n",
    "img = cv2.resize(img, None, fx=0.3, fy=0.15)\n",
    "\n",
    "# Convert the img to grayscale\n",
    "gray = cv2.cvtColor(img, cv2.COLOR_BGR2GRAY)\n",
    "\n",
    "# remove noise\n",
    "med = cv2.medianBlur(gray, 21)\n",
    "\n",
    "# get adaptive threshold\n",
    "thr = cv2.adaptiveThreshold(med, 255, cv2.ADAPTIVE_THRESH_MEAN_C, cv2.THRESH_BINARY, 21, 2)\n",
    "\n",
    "# thinner lines\n",
    "kernel = np.ones((5,5),np.uint8)\n",
    "thr = cv2.dilate(thr, kernel, iterations=1)\n",
    "\n",
    "# Apply edge detection method on the image\n",
    "edges = cv2.Canny(thr, 1, 255, apertureSize=3)\n",
    "\n",
    "# This returns an array of r and theta values\n",
    "lines = cv2.HoughLines(edges, 1, np.pi / 180, 80)\n",
    "\n",
    "\n",
    "# The below for loop runs till r and theta values\n",
    "# are in the range of the 2d array\n",
    "for line in lines:\n",
    "    for r, theta in line:\n",
    "        # Stores the value of cos(theta) in a\n",
    "        a = np.cos(theta)\n",
    "\n",
    "        # Stores the value of sin(theta) in b\n",
    "        b = np.sin(theta)\n",
    "\n",
    "        # x0 stores the value rcos(theta)\n",
    "        x0 = a * r\n",
    "\n",
    "        # y0 stores the value rsin(theta)\n",
    "        y0 = b * r\n",
    "\n",
    "        # x1 stores the rounded off value of (rcos(theta)-1000sin(theta))\n",
    "        x1 = int(x0 + 1000 * (-b))\n",
    "\n",
    "        # y1 stores the rounded off value of (rsin(theta)+1000cos(theta))\n",
    "        y1 = int(y0 + 1000 * (a))\n",
    "\n",
    "        # x2 stores the rounded off value of (rcos(theta)+1000sin(theta))\n",
    "        x2 = int(x0 - 1000 * (-b))\n",
    "\n",
    "        # y2 stores the rounded off value of (rsin(theta)-1000cos(theta))\n",
    "        y2 = int(y0 - 1000 * (a))\n",
    "\n",
    "        # cv2.line draws a line in img from the point(x1,y1) to (x2,y2).\n",
    "        # (0,0,255) denotes the colour of the line to be\n",
    "        # drawn. In this case, it is red.\n",
    "        cv2.line(img, (x1, y1), (x2, y2), (0, 0, 255), 2)\n",
    "\n",
    "cv2.imshow('im',img)\n",
    "cv2.waitKey()"
   ]
  }
 ]
}